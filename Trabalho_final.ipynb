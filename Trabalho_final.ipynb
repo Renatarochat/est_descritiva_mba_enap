{
 "cells": [
  {
   "cell_type": "code",
   "execution_count": 1,
   "id": "c04bdc96-580e-4d7c-8aad-fa628fbfa4c1",
   "metadata": {},
   "outputs": [],
   "source": [
    "#Trabalho final\n",
    "\n",
    "#Análise da base de dados das Unidades Básicas de Saúde (UBS) existentes no território brasileiro\n",
    "\n",
    "#Disciplina: Estatística Descritiva\n",
    "#MBA de Ciência de Dados e IA da ENAP\n",
    "\n",
    "#Aluna: Renata Rocha Torres Amaral\n",
    "#Professor: Stefano Mozart\n",
    "\n",
    "#Março/2025"
   ]
  },
  {
   "cell_type": "code",
   "execution_count": null,
   "id": "82f4d986-06fb-4fc5-a573-0337360f17ff",
   "metadata": {},
   "outputs": [],
   "source": [
    "#Para esse trabalho, foi utilizada a base de dados, do Ministério da Saúde, de Unidades Básicas de Saúde por município e de população por município do IBGE (2023).\n",
    "#Ambas as bases não possuem restrição de acesso ou dados sensíveis de acordo com a LGPD."
   ]
  },
  {
   "cell_type": "code",
   "execution_count": 44,
   "id": "32a8d062-570f-4763-8cac-c25110f9d427",
   "metadata": {},
   "outputs": [],
   "source": [
    "#Contextualização\n",
    "#Uma Unidade Básica de Saúde (UBS) é a porta de entrada do Sistema Único de Saúde (SUS) no Brasil. \n",
    "#Sua principal função é oferecer atendimento primário à população, promovendo a prevenção, diagnóstico, tratamento e acompanhamento de doenças.\n",
    "#As UBSs fazem parte da Atenção Primária à Saúde (APS) e são fundamentais para evitar que casos simples evoluam para problemas mais graves, reduzindo a demanda por hospitais.\n",
    "\n",
    "#Nesse cenário, conhecer qual é a realidade brasileira, é fundamental para planejar políticas públicas.\n",
    "#Sabe-se que hoje, o quantitativo de UBS é pequeno para atender toda a população do país. O Brasil é um país de grandes dimensões, com muitos municípios, e atender toda a população é um desafio para o poder público.\n",
    "#Sabe-se também que, o orçamento público é limitado.]\n",
    "#Assim, a ciência de dados tem muito a contribuir para que as tomadas de decisão sejam mais acertivas e que traga maiores benefícios para as pessoas.\n",
    "\n",
    "#Portanto, o presente trabalho, tem o objetivo de analisar o quantitativo de UBSs existentes, fazendo uma correlação com a população do município."
   ]
  },
  {
   "cell_type": "code",
   "execution_count": 2,
   "id": "70a96604-8230-409f-a667-2ee8213039e1",
   "metadata": {},
   "outputs": [],
   "source": [
    "import pandas as pd\n",
    "import matplotlib.pyplot as plt\n",
    "import seaborn as sns\n",
    "from scipy.stats import gmean, hmean, skew, kurtosis, lognorm, kendalltau\n",
    "import numpy as np\n",
    "import scipy.stats as stats\n",
    "import statsmodels.api as sm\n",
    "import statsmodels.formula.api as smf\n",
    "from statsmodels.robust.robust_linear_model import RLM\n",
    "from statsmodels.regression.quantile_regression import QuantReg"
   ]
  },
  {
   "cell_type": "code",
   "execution_count": 46,
   "id": "0859a917-75e4-455e-9ae8-8c1a6c22d729",
   "metadata": {},
   "outputs": [
    {
     "name": "stdout",
     "output_type": "stream",
     "text": [
      "Arquivo carregado com sucesso!\n"
     ]
    },
    {
     "data": {
      "text/html": [
       "<div>\n",
       "<style scoped>\n",
       "    .dataframe tbody tr th:only-of-type {\n",
       "        vertical-align: middle;\n",
       "    }\n",
       "\n",
       "    .dataframe tbody tr th {\n",
       "        vertical-align: top;\n",
       "    }\n",
       "\n",
       "    .dataframe thead th {\n",
       "        text-align: right;\n",
       "    }\n",
       "</style>\n",
       "<table border=\"1\" class=\"dataframe\">\n",
       "  <thead>\n",
       "    <tr style=\"text-align: right;\">\n",
       "      <th></th>\n",
       "      <th>CNES</th>\n",
       "      <th>UF</th>\n",
       "      <th>IBGE</th>\n",
       "      <th>NOME</th>\n",
       "      <th>LOGRADOURO</th>\n",
       "      <th>BAIRRO</th>\n",
       "      <th>LATITUDE</th>\n",
       "      <th>LONGITUDE</th>\n",
       "      <th>qtd</th>\n",
       "    </tr>\n",
       "  </thead>\n",
       "  <tbody>\n",
       "    <tr>\n",
       "      <th>0</th>\n",
       "      <td>0000302</td>\n",
       "      <td>26</td>\n",
       "      <td>260290</td>\n",
       "      <td>USF SANTO ESTEVAO</td>\n",
       "      <td>RUA DO CEMITERIO</td>\n",
       "      <td>PONTE DOS CARVALHOS</td>\n",
       "      <td>-8.21811</td>\n",
       "      <td>-35.22944</td>\n",
       "      <td>1</td>\n",
       "    </tr>\n",
       "    <tr>\n",
       "      <th>1</th>\n",
       "      <td>2376210</td>\n",
       "      <td>50</td>\n",
       "      <td>500240</td>\n",
       "      <td>ESTRATEGIA DE SAUDE DA FAMILIA MARIZA RODRIGUE...</td>\n",
       "      <td>RUA JOAO PESSOA</td>\n",
       "      <td>SANTO ANTONIO</td>\n",
       "      <td>-22.61912</td>\n",
       "      <td>-54.83528</td>\n",
       "      <td>1</td>\n",
       "    </tr>\n",
       "    <tr>\n",
       "      <th>2</th>\n",
       "      <td>2789310</td>\n",
       "      <td>35</td>\n",
       "      <td>355030</td>\n",
       "      <td>UBS VILA COSMOPOLITA</td>\n",
       "      <td>RUA CHUVAS DE VERAO</td>\n",
       "      <td>GUAIANASES</td>\n",
       "      <td>-23.56096</td>\n",
       "      <td>-46.42381</td>\n",
       "      <td>1</td>\n",
       "    </tr>\n",
       "    <tr>\n",
       "      <th>3</th>\n",
       "      <td>4613902</td>\n",
       "      <td>21</td>\n",
       "      <td>211060</td>\n",
       "      <td>POSTO MORRO DO SALTO DA PEDRA</td>\n",
       "      <td>POVOADO MORRO DO SALTO DA PEDRA</td>\n",
       "      <td>ZONA RURAL</td>\n",
       "      <td>-3.42166</td>\n",
       "      <td>-42.36826</td>\n",
       "      <td>1</td>\n",
       "    </tr>\n",
       "    <tr>\n",
       "      <th>4</th>\n",
       "      <td>4613910</td>\n",
       "      <td>21</td>\n",
       "      <td>211060</td>\n",
       "      <td>POSTO ENXU</td>\n",
       "      <td>POVOADO ENXU</td>\n",
       "      <td>ZONA RURAL</td>\n",
       "      <td>-3.32356</td>\n",
       "      <td>-42.58953</td>\n",
       "      <td>1</td>\n",
       "    </tr>\n",
       "  </tbody>\n",
       "</table>\n",
       "</div>"
      ],
      "text/plain": [
       "      CNES  UF    IBGE                                               NOME  \\\n",
       "0  0000302  26  260290                                  USF SANTO ESTEVAO   \n",
       "1  2376210  50  500240  ESTRATEGIA DE SAUDE DA FAMILIA MARIZA RODRIGUE...   \n",
       "2  2789310  35  355030                               UBS VILA COSMOPOLITA   \n",
       "3  4613902  21  211060                      POSTO MORRO DO SALTO DA PEDRA   \n",
       "4  4613910  21  211060                                         POSTO ENXU   \n",
       "\n",
       "                        LOGRADOURO               BAIRRO  LATITUDE  LONGITUDE  \\\n",
       "0                 RUA DO CEMITERIO  PONTE DOS CARVALHOS  -8.21811  -35.22944   \n",
       "1                  RUA JOAO PESSOA        SANTO ANTONIO -22.61912  -54.83528   \n",
       "2              RUA CHUVAS DE VERAO           GUAIANASES -23.56096  -46.42381   \n",
       "3  POVOADO MORRO DO SALTO DA PEDRA           ZONA RURAL  -3.42166  -42.36826   \n",
       "4                     POVOADO ENXU           ZONA RURAL  -3.32356  -42.58953   \n",
       "\n",
       "   qtd  \n",
       "0    1  \n",
       "1    1  \n",
       "2    1  \n",
       "3    1  \n",
       "4    1  "
      ]
     },
     "metadata": {},
     "output_type": "display_data"
    }
   ],
   "source": [
    "#Importando a base de dados do Ministério da Saúde\n",
    "# Definir o nome do arquivo CSV\n",
    "arquivo_csv = \"ubs_brasil.csv\"\n",
    "\n",
    "# Carregar o arquivo CSV em um DataFrame, tratando células em branco como NaN\n",
    "try:\n",
    "    df_ubs_brasil = pd.read_csv(\n",
    "        arquivo_csv,\n",
    "        encoding=\"utf-8\",\n",
    "        delimiter=';',  # Usar delimitador de ponto e vírgula\n",
    "        decimal=',',  # Definir vírgula como separador decimal\n",
    "        dtype={\"CNES\": str, \"UF\": str, \"IBGE\": str},  # Definir colunas como string\n",
    "        na_values=['']  # Tratar células em branco como NaN\n",
    "    )\n",
    "\n",
    "     # Adicionar a coluna \"qtd\" com valor 1 para cada linha\n",
    "    df_ubs_brasil[\"qtd\"] = 1\n",
    "    print(\"Arquivo carregado com sucesso!\")\n",
    "    display(df_ubs_brasil.head())  # Exibir as primeiras linhas do DataFrame\n",
    "except FileNotFoundError:\n",
    "    print(f\"Erro: O arquivo '{arquivo_csv}' não foi encontrado.\")\n",
    "except Exception as e:\n",
    "    print(f\"Ocorreu um erro ao carregar o arquivo: {e}\")"
   ]
  },
  {
   "cell_type": "code",
   "execution_count": 47,
   "id": "8970083c-0a3c-4df3-86ad-9decbd3579e7",
   "metadata": {},
   "outputs": [
    {
     "data": {
      "text/html": [
       "<div>\n",
       "<style scoped>\n",
       "    .dataframe tbody tr th:only-of-type {\n",
       "        vertical-align: middle;\n",
       "    }\n",
       "\n",
       "    .dataframe tbody tr th {\n",
       "        vertical-align: top;\n",
       "    }\n",
       "\n",
       "    .dataframe thead th {\n",
       "        text-align: right;\n",
       "    }\n",
       "</style>\n",
       "<table border=\"1\" class=\"dataframe\">\n",
       "  <thead>\n",
       "    <tr style=\"text-align: right;\">\n",
       "      <th></th>\n",
       "      <th>REGIÃO</th>\n",
       "      <th>Sigla_Regiao</th>\n",
       "      <th>UF</th>\n",
       "      <th>COD. UF</th>\n",
       "      <th>COD. MUNIC</th>\n",
       "      <th>IBGE7</th>\n",
       "      <th>IBGE6</th>\n",
       "      <th>NOME DO MUNICÍPIO</th>\n",
       "      <th>MUN_UF</th>\n",
       "      <th>POP</th>\n",
       "    </tr>\n",
       "  </thead>\n",
       "  <tbody>\n",
       "    <tr>\n",
       "      <th>0</th>\n",
       "      <td>Norte</td>\n",
       "      <td>N</td>\n",
       "      <td>RO</td>\n",
       "      <td>11</td>\n",
       "      <td>15</td>\n",
       "      <td>1100015</td>\n",
       "      <td>110001</td>\n",
       "      <td>Alta Floresta D'Oeste</td>\n",
       "      <td>Alta Floresta D'Oeste/RO</td>\n",
       "      <td>21494</td>\n",
       "    </tr>\n",
       "    <tr>\n",
       "      <th>1</th>\n",
       "      <td>Norte</td>\n",
       "      <td>N</td>\n",
       "      <td>RO</td>\n",
       "      <td>11</td>\n",
       "      <td>23</td>\n",
       "      <td>1100023</td>\n",
       "      <td>110002</td>\n",
       "      <td>Ariquemes</td>\n",
       "      <td>Ariquemes/RO</td>\n",
       "      <td>96833</td>\n",
       "    </tr>\n",
       "    <tr>\n",
       "      <th>2</th>\n",
       "      <td>Norte</td>\n",
       "      <td>N</td>\n",
       "      <td>RO</td>\n",
       "      <td>11</td>\n",
       "      <td>31</td>\n",
       "      <td>1100031</td>\n",
       "      <td>110003</td>\n",
       "      <td>Cabixi</td>\n",
       "      <td>Cabixi/RO</td>\n",
       "      <td>5351</td>\n",
       "    </tr>\n",
       "    <tr>\n",
       "      <th>3</th>\n",
       "      <td>Norte</td>\n",
       "      <td>N</td>\n",
       "      <td>RO</td>\n",
       "      <td>11</td>\n",
       "      <td>49</td>\n",
       "      <td>1100049</td>\n",
       "      <td>110004</td>\n",
       "      <td>Cacoal</td>\n",
       "      <td>Cacoal/RO</td>\n",
       "      <td>86887</td>\n",
       "    </tr>\n",
       "    <tr>\n",
       "      <th>4</th>\n",
       "      <td>Norte</td>\n",
       "      <td>N</td>\n",
       "      <td>RO</td>\n",
       "      <td>11</td>\n",
       "      <td>56</td>\n",
       "      <td>1100056</td>\n",
       "      <td>110005</td>\n",
       "      <td>Cerejeiras</td>\n",
       "      <td>Cerejeiras/RO</td>\n",
       "      <td>15890</td>\n",
       "    </tr>\n",
       "  </tbody>\n",
       "</table>\n",
       "</div>"
      ],
      "text/plain": [
       "  REGIÃO Sigla_Regiao  UF  COD. UF  COD. MUNIC    IBGE7   IBGE6  \\\n",
       "0  Norte            N  RO       11          15  1100015  110001   \n",
       "1  Norte            N  RO       11          23  1100023  110002   \n",
       "2  Norte            N  RO       11          31  1100031  110003   \n",
       "3  Norte            N  RO       11          49  1100049  110004   \n",
       "4  Norte            N  RO       11          56  1100056  110005   \n",
       "\n",
       "       NOME DO MUNICÍPIO                    MUN_UF    POP  \n",
       "0  Alta Floresta D'Oeste  Alta Floresta D'Oeste/RO  21494  \n",
       "1              Ariquemes              Ariquemes/RO  96833  \n",
       "2                 Cabixi                 Cabixi/RO   5351  \n",
       "3                 Cacoal                 Cacoal/RO  86887  \n",
       "4             Cerejeiras             Cerejeiras/RO  15890  "
      ]
     },
     "execution_count": 47,
     "metadata": {},
     "output_type": "execute_result"
    }
   ],
   "source": [
    "#Importanto a base de dados do IBGE\n",
    "# Carregar o arquivo Excel, ignorando a primeira linha e tratando as colunas \"COD. UF\" e \"COD. MUNIC\" como string\n",
    "df_pop = pd.read_excel(\"populacao.xls\", dtype={\"IBGE6\": str, \"IBGE7\": str})\n",
    "\n",
    "# Exibir as primeiras linhas para verificação\n",
    "df_pop.head()"
   ]
  },
  {
   "cell_type": "code",
   "execution_count": 48,
   "id": "38eb6e80-bde0-4433-9de9-ced3e830574e",
   "metadata": {},
   "outputs": [
    {
     "data": {
      "text/html": [
       "<div>\n",
       "<style scoped>\n",
       "    .dataframe tbody tr th:only-of-type {\n",
       "        vertical-align: middle;\n",
       "    }\n",
       "\n",
       "    .dataframe tbody tr th {\n",
       "        vertical-align: top;\n",
       "    }\n",
       "\n",
       "    .dataframe thead th {\n",
       "        text-align: right;\n",
       "    }\n",
       "</style>\n",
       "<table border=\"1\" class=\"dataframe\">\n",
       "  <thead>\n",
       "    <tr style=\"text-align: right;\">\n",
       "      <th></th>\n",
       "      <th>CNES</th>\n",
       "      <th>UF_x</th>\n",
       "      <th>IBGE</th>\n",
       "      <th>NOME</th>\n",
       "      <th>LOGRADOURO</th>\n",
       "      <th>BAIRRO</th>\n",
       "      <th>LATITUDE</th>\n",
       "      <th>LONGITUDE</th>\n",
       "      <th>qtd</th>\n",
       "      <th>IBGE6</th>\n",
       "      <th>POP</th>\n",
       "      <th>UF_y</th>\n",
       "      <th>REGIÃO</th>\n",
       "      <th>MUN_UF</th>\n",
       "    </tr>\n",
       "  </thead>\n",
       "  <tbody>\n",
       "    <tr>\n",
       "      <th>0</th>\n",
       "      <td>0000302</td>\n",
       "      <td>26</td>\n",
       "      <td>260290</td>\n",
       "      <td>USF SANTO ESTEVAO</td>\n",
       "      <td>RUA DO CEMITERIO</td>\n",
       "      <td>PONTE DOS CARVALHOS</td>\n",
       "      <td>-8.21811</td>\n",
       "      <td>-35.22944</td>\n",
       "      <td>1</td>\n",
       "      <td>260290</td>\n",
       "      <td>203440</td>\n",
       "      <td>PE</td>\n",
       "      <td>Nordeste</td>\n",
       "      <td>Cabo de Santo Agostinho/PE</td>\n",
       "    </tr>\n",
       "    <tr>\n",
       "      <th>1</th>\n",
       "      <td>2376210</td>\n",
       "      <td>50</td>\n",
       "      <td>500240</td>\n",
       "      <td>ESTRATEGIA DE SAUDE DA FAMILIA MARIZA RODRIGUE...</td>\n",
       "      <td>RUA JOAO PESSOA</td>\n",
       "      <td>SANTO ANTONIO</td>\n",
       "      <td>-22.61912</td>\n",
       "      <td>-54.83528</td>\n",
       "      <td>1</td>\n",
       "      <td>500240</td>\n",
       "      <td>30612</td>\n",
       "      <td>MS</td>\n",
       "      <td>Centro-Oeste</td>\n",
       "      <td>Caarapó/MS</td>\n",
       "    </tr>\n",
       "    <tr>\n",
       "      <th>2</th>\n",
       "      <td>2789310</td>\n",
       "      <td>35</td>\n",
       "      <td>355030</td>\n",
       "      <td>UBS VILA COSMOPOLITA</td>\n",
       "      <td>RUA CHUVAS DE VERAO</td>\n",
       "      <td>GUAIANASES</td>\n",
       "      <td>-23.56096</td>\n",
       "      <td>-46.42381</td>\n",
       "      <td>1</td>\n",
       "      <td>355030</td>\n",
       "      <td>11451999</td>\n",
       "      <td>SP</td>\n",
       "      <td>Sudeste</td>\n",
       "      <td>São Paulo/SP</td>\n",
       "    </tr>\n",
       "    <tr>\n",
       "      <th>3</th>\n",
       "      <td>4613902</td>\n",
       "      <td>21</td>\n",
       "      <td>211060</td>\n",
       "      <td>POSTO MORRO DO SALTO DA PEDRA</td>\n",
       "      <td>POVOADO MORRO DO SALTO DA PEDRA</td>\n",
       "      <td>ZONA RURAL</td>\n",
       "      <td>-3.42166</td>\n",
       "      <td>-42.36826</td>\n",
       "      <td>1</td>\n",
       "      <td>211060</td>\n",
       "      <td>26943</td>\n",
       "      <td>MA</td>\n",
       "      <td>Nordeste</td>\n",
       "      <td>São Bernardo/MA</td>\n",
       "    </tr>\n",
       "    <tr>\n",
       "      <th>4</th>\n",
       "      <td>4613910</td>\n",
       "      <td>21</td>\n",
       "      <td>211060</td>\n",
       "      <td>POSTO ENXU</td>\n",
       "      <td>POVOADO ENXU</td>\n",
       "      <td>ZONA RURAL</td>\n",
       "      <td>-3.32356</td>\n",
       "      <td>-42.58953</td>\n",
       "      <td>1</td>\n",
       "      <td>211060</td>\n",
       "      <td>26943</td>\n",
       "      <td>MA</td>\n",
       "      <td>Nordeste</td>\n",
       "      <td>São Bernardo/MA</td>\n",
       "    </tr>\n",
       "  </tbody>\n",
       "</table>\n",
       "</div>"
      ],
      "text/plain": [
       "      CNES UF_x    IBGE                                               NOME  \\\n",
       "0  0000302   26  260290                                  USF SANTO ESTEVAO   \n",
       "1  2376210   50  500240  ESTRATEGIA DE SAUDE DA FAMILIA MARIZA RODRIGUE...   \n",
       "2  2789310   35  355030                               UBS VILA COSMOPOLITA   \n",
       "3  4613902   21  211060                      POSTO MORRO DO SALTO DA PEDRA   \n",
       "4  4613910   21  211060                                         POSTO ENXU   \n",
       "\n",
       "                        LOGRADOURO               BAIRRO  LATITUDE  LONGITUDE  \\\n",
       "0                 RUA DO CEMITERIO  PONTE DOS CARVALHOS  -8.21811  -35.22944   \n",
       "1                  RUA JOAO PESSOA        SANTO ANTONIO -22.61912  -54.83528   \n",
       "2              RUA CHUVAS DE VERAO           GUAIANASES -23.56096  -46.42381   \n",
       "3  POVOADO MORRO DO SALTO DA PEDRA           ZONA RURAL  -3.42166  -42.36826   \n",
       "4                     POVOADO ENXU           ZONA RURAL  -3.32356  -42.58953   \n",
       "\n",
       "   qtd   IBGE6       POP UF_y        REGIÃO                      MUN_UF  \n",
       "0    1  260290    203440   PE      Nordeste  Cabo de Santo Agostinho/PE  \n",
       "1    1  500240     30612   MS  Centro-Oeste                  Caarapó/MS  \n",
       "2    1  355030  11451999   SP       Sudeste                São Paulo/SP  \n",
       "3    1  211060     26943   MA      Nordeste             São Bernardo/MA  \n",
       "4    1  211060     26943   MA      Nordeste             São Bernardo/MA  "
      ]
     },
     "execution_count": 48,
     "metadata": {},
     "output_type": "execute_result"
    }
   ],
   "source": [
    "#Unindo as duas bases para que seja possível fazer a correção do quantitativo de UBS e população\n",
    "# Garantir que as colunas usadas na mesclagem sejam do tipo string\n",
    "df_ubs_brasil[\"IBGE\"] = df_ubs_brasil[\"IBGE\"].astype(str)\n",
    "df_pop[\"IBGE6\"] = df_pop[\"IBGE6\"].astype(str)\n",
    "\n",
    "# Selecionar apenas a coluna desejada do df_pop\n",
    "df_pop_selecionado = df_pop[[\"IBGE6\", \"POP\", \"UF\", \"REGIÃO\", \"MUN_UF\"]]\n",
    "\n",
    "# Mesclar os DataFrames usando as colunas \"IBGE\" e \"IBGE6\"\n",
    "df_ubs = df_ubs_brasil.merge(df_pop_selecionado, left_on=\"IBGE\", right_on=\"IBGE6\", how=\"left\")\n",
    "\n",
    "# Garantir que a coluna 'pop' seja do tipo inteiro sem casa decimal\n",
    "df_ubs[\"POP\"] = pd.to_numeric(df_ubs[\"POP\"], errors='coerce').fillna(0).astype(int)\n",
    "\n",
    "\n",
    "# Exibir as primeiras linhas do DataFrame mesclado\n",
    "df_ubs.head()\n",
    "\n"
   ]
  },
  {
   "cell_type": "code",
   "execution_count": 49,
   "id": "500becec-b05e-46d6-9965-d6fc816570d5",
   "metadata": {},
   "outputs": [
    {
     "name": "stdout",
     "output_type": "stream",
     "text": [
      "Variáveis disponíveis no DataFrame:\n",
      "['CNES', 'UF_x', 'IBGE', 'NOME', 'LOGRADOURO', 'BAIRRO', 'LATITUDE', 'LONGITUDE', 'qtd', 'IBGE6', 'POP', 'UF_y', 'REGIÃO', 'MUN_UF']\n"
     ]
    }
   ],
   "source": [
    "#Variáveis disponíveis no DataFrame\n",
    "print(\"Variáveis disponíveis no DataFrame:\")\n",
    "print(df_ubs.columns.tolist())"
   ]
  },
  {
   "cell_type": "code",
   "execution_count": 50,
   "id": "921d3133-cd55-4e0d-a5af-b083887b60ef",
   "metadata": {},
   "outputs": [
    {
     "data": {
      "text/html": [
       "<div>\n",
       "<style scoped>\n",
       "    .dataframe tbody tr th:only-of-type {\n",
       "        vertical-align: middle;\n",
       "    }\n",
       "\n",
       "    .dataframe tbody tr th {\n",
       "        vertical-align: top;\n",
       "    }\n",
       "\n",
       "    .dataframe thead th {\n",
       "        text-align: right;\n",
       "    }\n",
       "</style>\n",
       "<table border=\"1\" class=\"dataframe\">\n",
       "  <thead>\n",
       "    <tr style=\"text-align: right;\">\n",
       "      <th></th>\n",
       "      <th>IBGE</th>\n",
       "      <th>qtd</th>\n",
       "      <th>pop</th>\n",
       "      <th>mun_uf</th>\n",
       "      <th>uf</th>\n",
       "      <th>regiao</th>\n",
       "    </tr>\n",
       "  </thead>\n",
       "  <tbody>\n",
       "    <tr>\n",
       "      <th>0</th>\n",
       "      <td>110001</td>\n",
       "      <td>4</td>\n",
       "      <td>21494</td>\n",
       "      <td>Alta Floresta D'Oeste/RO</td>\n",
       "      <td>RO</td>\n",
       "      <td>Norte</td>\n",
       "    </tr>\n",
       "    <tr>\n",
       "      <th>1</th>\n",
       "      <td>110002</td>\n",
       "      <td>14</td>\n",
       "      <td>96833</td>\n",
       "      <td>Ariquemes/RO</td>\n",
       "      <td>RO</td>\n",
       "      <td>Norte</td>\n",
       "    </tr>\n",
       "    <tr>\n",
       "      <th>2</th>\n",
       "      <td>110003</td>\n",
       "      <td>3</td>\n",
       "      <td>5351</td>\n",
       "      <td>Cabixi/RO</td>\n",
       "      <td>RO</td>\n",
       "      <td>Norte</td>\n",
       "    </tr>\n",
       "    <tr>\n",
       "      <th>3</th>\n",
       "      <td>110004</td>\n",
       "      <td>15</td>\n",
       "      <td>86887</td>\n",
       "      <td>Cacoal/RO</td>\n",
       "      <td>RO</td>\n",
       "      <td>Norte</td>\n",
       "    </tr>\n",
       "    <tr>\n",
       "      <th>4</th>\n",
       "      <td>110005</td>\n",
       "      <td>6</td>\n",
       "      <td>15890</td>\n",
       "      <td>Cerejeiras/RO</td>\n",
       "      <td>RO</td>\n",
       "      <td>Norte</td>\n",
       "    </tr>\n",
       "  </tbody>\n",
       "</table>\n",
       "</div>"
      ],
      "text/plain": [
       "     IBGE  qtd    pop                    mun_uf  uf regiao\n",
       "0  110001    4  21494  Alta Floresta D'Oeste/RO  RO  Norte\n",
       "1  110002   14  96833              Ariquemes/RO  RO  Norte\n",
       "2  110003    3   5351                 Cabixi/RO  RO  Norte\n",
       "3  110004   15  86887                 Cacoal/RO  RO  Norte\n",
       "4  110005    6  15890             Cerejeiras/RO  RO  Norte"
      ]
     },
     "execution_count": 50,
     "metadata": {},
     "output_type": "execute_result"
    }
   ],
   "source": [
    "#Como o arquivo do MS tem o cadastro de cada UBS, para relacionar com a população, vou fazer um agrupamento do número de UBS por Município\n",
    "# Agrupar por 'IBGE', somando a coluna 'qtd' e mantendo a coluna 'pop' (com a primeira ocorrência)\n",
    "df_agrupado = df_ubs.groupby('IBGE').agg(\n",
    "    qtd=('qtd', 'sum'),  # Somar a coluna 'qtd'\n",
    "    pop=('POP', 'first'),  # Trazer o valor da coluna 'pop' da primeira linha de cada grupo\n",
    "    mun_uf=('MUN_UF', 'first'),\n",
    "    uf=('UF_y', 'first'),\n",
    "    regiao=('REGIÃO', 'first')\n",
    ").reset_index()  # Resetar o índice para que 'IBGE' não seja mais o índice do DataFrame\n",
    "\n",
    "# Garantir que a coluna 'pop' seja do tipo inteiro sem casa decimal\n",
    "df_agrupado[\"pop\"] = pd.to_numeric(df_agrupado[\"pop\"], errors='coerce').fillna(0).astype(int)\n",
    "\n",
    "# Exibir as primeiras linhas do novo DataFrame\n",
    "df_agrupado.head()\n"
   ]
  },
  {
   "cell_type": "code",
   "execution_count": 51,
   "id": "8e2d15a5-ae64-46f3-85d6-1df82fe81ecb",
   "metadata": {},
   "outputs": [
    {
     "name": "stdout",
     "output_type": "stream",
     "text": [
      "\n",
      "Tipo de cada variável:\n",
      "IBGE: Qualitativa Nominal\n",
      "qtd: Quantitativa Discreta\n",
      "pop: Quantitativa Discreta\n",
      "mun_uf: Qualitativa Nominal\n",
      "uf: Qualitativa Nominal\n",
      "regiao: Qualitativa Nominal\n"
     ]
    }
   ],
   "source": [
    "#Tipo de cada variável\n",
    "print(\"\\nTipo de cada variável:\")\n",
    "for coluna in df_agrupado.columns:  # Use df_ubs agora\n",
    "    tipo = \"\"\n",
    "    if df_agrupado[coluna].dtype == \"object\":\n",
    "        tipo = \"Qualitativa Nominal\"\n",
    "    elif df_agrupado[coluna].dtype in [\"int64\", \"int32\"]:\n",
    "        tipo = \"Quantitativa Discreta\"\n",
    "    elif df_agrupado[coluna].dtype in [\"float64\", \"float32\"]:\n",
    "        tipo = \"Quantitativa Contínua\"\n",
    "    print(f\"{coluna}: {tipo}\")"
   ]
  },
  {
   "cell_type": "code",
   "execution_count": 52,
   "id": "ea4c5bae-3087-48ca-a013-45f09776c25a",
   "metadata": {},
   "outputs": [
    {
     "name": "stdout",
     "output_type": "stream",
     "text": [
      "\n",
      "Distribuição de Frequência para a coluna 'IBGE':\n",
      "IBGE\n",
      "530040    1\n",
      "110001    1\n",
      "110002    1\n",
      "110003    1\n",
      "110004    1\n",
      "         ..\n",
      "110015    1\n",
      "110014    1\n",
      "110013    1\n",
      "110012    1\n",
      "110011    1\n",
      "Name: count, Length: 5482, dtype: int64\n",
      "\n",
      "Distribuição de Frequência para a coluna 'qtd':\n",
      "count    5482.000000\n",
      "mean        8.525903\n",
      "std        15.852338\n",
      "min         1.000000\n",
      "25%         2.000000\n",
      "50%         5.000000\n",
      "75%        10.000000\n",
      "max       624.000000\n",
      "Name: qtd, dtype: float64\n",
      "\n",
      "Distribuição de Frequência para a coluna 'pop':\n",
      "count    5.482000e+03\n",
      "mean     3.685367e+04\n",
      "std      2.081369e+05\n",
      "min      0.000000e+00\n",
      "25%      5.260500e+03\n",
      "50%      1.109550e+04\n",
      "75%      2.465475e+04\n",
      "max      1.145200e+07\n",
      "Name: pop, dtype: float64\n",
      "\n",
      "Distribuição de Frequência para a coluna 'mun_uf':\n",
      "mun_uf\n",
      "Brasília/DF                    1\n",
      "Alta Floresta D'Oeste/RO       1\n",
      "Ariquemes/RO                   1\n",
      "Cabixi/RO                      1\n",
      "Cacoal/RO                      1\n",
      "                              ..\n",
      "Nova Brasilândia D'Oeste/RO    1\n",
      "Machadinho D'Oeste/RO          1\n",
      "Ji-Paraná/RO                   1\n",
      "Jaru/RO                        1\n",
      "Guajará-Mirim/RO               1\n",
      "Name: count, Length: 5481, dtype: int64\n",
      "\n",
      "Distribuição de Frequência para a coluna 'uf':\n",
      "uf\n",
      "MG    850\n",
      "SP    638\n",
      "RS    458\n",
      "BA    414\n",
      "PR    388\n",
      "SC    295\n",
      "GO    244\n",
      "PI    223\n",
      "PB    221\n",
      "MA    215\n",
      "PE    184\n",
      "CE    183\n",
      "RN    166\n",
      "PA    140\n",
      "MT    140\n",
      "TO    137\n",
      "AL    102\n",
      "RJ     89\n",
      "MS     78\n",
      "ES     77\n",
      "SE     73\n",
      "AM     60\n",
      "RO     52\n",
      "AC     22\n",
      "AP     16\n",
      "RR     15\n",
      "DF      1\n",
      "Name: count, dtype: int64\n",
      "\n",
      "Distribuição de Frequência para a coluna 'regiao':\n",
      "regiao\n",
      "Nordeste        1781\n",
      "Sudeste         1654\n",
      "Sul             1141\n",
      "Centro-Oeste     463\n",
      "Norte            442\n",
      "Name: count, dtype: int64\n"
     ]
    }
   ],
   "source": [
    "# Distribuição de frequência para cada variável no df_agrupado\n",
    "for coluna in df_agrupado.columns:\n",
    "    print(f\"\\nDistribuição de Frequência para a coluna '{coluna}':\")\n",
    "    \n",
    "    # Se a coluna for qualitativa (do tipo objeto ou string)\n",
    "    if df_agrupado[coluna].dtype == \"object\":\n",
    "        print(df_agrupado[coluna].value_counts())\n",
    "    # Se a coluna for quantitativa (do tipo numérico)\n",
    "    else:\n",
    "        print(df_agrupado[coluna].describe())\n"
   ]
  },
  {
   "cell_type": "code",
   "execution_count": 53,
   "id": "3d0c1ad1-b133-4436-8792-daac382a5ed0",
   "metadata": {},
   "outputs": [
    {
     "name": "stdout",
     "output_type": "stream",
     "text": [
      "Moda: 2\n",
      "Média: 8.53\n",
      "Mediana: 5.0\n"
     ]
    }
   ],
   "source": [
    "# Moda, média e mediana - Quantidade de UBS por Município\n",
    "moda = df_agrupado['qtd'].mode()[0]  # O [0] é para pegar o primeiro valor da moda caso haja mais de uma\n",
    "media = df_agrupado['qtd'].mean()\n",
    "mediana = df_agrupado['qtd'].median()\n",
    "\n",
    "# Exibir os resultados\n",
    "print(f\"Moda: {moda}\")\n",
    "print(f\"Média: {media:.2f}\")\n",
    "print(f\"Mediana: {mediana}\")"
   ]
  },
  {
   "cell_type": "code",
   "execution_count": 54,
   "id": "4a041ff1-c103-442d-8d44-9fa09ae14f56",
   "metadata": {},
   "outputs": [],
   "source": [
    "#A média de UBS por município é aproximadamente 8,53.\n",
    "\n",
    "#O desvio padrão é aproximadamente 15,85, o que é relativamente grande em relação à média.\n",
    "#Isso indica que a quantidade de UBS por MUN é muito dispersa e há uma variação considerável entre os valores.\n",
    "\n",
    "#O valor mínimo registrado na coluna é 1. O que não quer dizer que todos os municípios do Brasil tem uma UBS.\n",
    "#Nem todos os municípios tem UBS. 5482 municípios tem UBS de um total de 5570 municípios brasileiros\n",
    "\n",
    "#O percentil 25% (primeiro quartil) é 2. Isso significa que 25% dos valores de UBS por município são menores ou iguais a 2.\n",
    "#Mas 2 é o número que mais se repete na amostra, sendo assim, a moda.\n",
    "\n",
    "#O percentil 50% (mediana) é 5, o que significa que metade dos valores são menores ou iguais a 5, e metade são maiores ou iguais a 5.\n",
    "#Isso pode significar uma Distribuição assimétrica. A mediana (5) é consideravelmente menor que a média (8,53), o que indica uma distribuição assimétrica à direita (skewed to the right). \n",
    "#Ou seja, a distribuição tem uma cauda mais longa à direita, possivelmente devido à presença de outliers ou valores muito altos.\n",
    "\n",
    "#O percentil 75% (terceiro quartil) é 10. Isso indica que 75% dos valores são menores ou iguais a 10, e os 25% restantes são maiores que 10.\n",
    "\n",
    "#O valor máximo é 624. Isso é consideravelmente maior que a média e os percentis, o que sugere a presença de alguns valores extremos ou outliers. \n",
    "#Ou seja, há registros com valores de UBS por Município muito elevados, o que está influenciando a grande variação do desvio padrão.\n",
    "\n",
    "#Com os dados, infere-se que há desbalanceamento dos dados, principalmente devido à distribuição assimétrica.\n",
    "#Como estou analisando a distribuição de UBS no Brasil, não vou tratar os casos extremos como outlier."
   ]
  },
  {
   "cell_type": "code",
   "execution_count": 61,
   "id": "ae7bacad-b159-4724-b4b4-dafbd8c3a9da",
   "metadata": {},
   "outputs": [
    {
     "name": "stdout",
     "output_type": "stream",
     "text": [
      "Média Geométrica: 4.89\n",
      "Média Harmônica: 3.11\n"
     ]
    }
   ],
   "source": [
    "#Média geométrica\n",
    "media_geometrica = gmean(df_agrupado['qtd'])\n",
    "\n",
    "#Média harmônica\n",
    "media_harmonica = hmean(df_agrupado['qtd'])\n",
    "\n",
    "# Exibir os resultados\n",
    "print(f\"Média Geométrica: {media_geometrica:.2f}\")\n",
    "print(f\"Média Harmônica: {media_harmonica:.2f}\")\n",
    "\n"
   ]
  },
  {
   "cell_type": "code",
   "execution_count": 62,
   "id": "801faeac-65bd-441b-a565-ebffa01b9cca",
   "metadata": {},
   "outputs": [],
   "source": [
    "#Esses resultados mostram que a distribuição de UBS no Brasil pode ser assimétrica e que há uma mistura de valores baixos e altos,\n",
    "#com uma concentração de valores pequenos (média harmônica menor e moda baixa). \n",
    "#A média e a mediana indicam que valores mais altos têm um impacto na distribuição."
   ]
  },
  {
   "cell_type": "code",
   "execution_count": 64,
   "id": "ef92d051-eedd-4d90-b8d4-38db72249d4f",
   "metadata": {},
   "outputs": [
    {
     "name": "stdout",
     "output_type": "stream",
     "text": [
      "Variância: 251.29662867731653\n",
      "Desvio Padrão: 15.852338271602601\n",
      "Amplitude: 623\n",
      "Intervalo Interquartílico (IQR): 8.0\n",
      "Coeficiente de Dispersão Quartílica: 1.6\n",
      "Coeficiente de Variação: 185.93%\n"
     ]
    }
   ],
   "source": [
    "# Medidas de dispersão\n",
    "variancia = df_agrupado['qtd'].var()  # Variância\n",
    "desvio_padrao = df_agrupado['qtd'].std()  # Desvio Padrão\n",
    "amplitude = df_agrupado['qtd'].max() - df_agrupado['qtd'].min()  # Amplitude\n",
    "Q1 = df_agrupado['qtd'].quantile(0.25)  # Primeiro quartil\n",
    "Q3 = df_agrupado['qtd'].quantile(0.75)  # Terceiro quartil\n",
    "IQR = Q3 - Q1  # Intervalo Interquartílico\n",
    "mediana = df_agrupado['qtd'].median()  # Mediana\n",
    "coef_disp_quartilico = IQR / mediana  # Coeficiente de Dispersão Quartílica\n",
    "coef_variacao = (desvio_padrao / df_agrupado['qtd'].mean()) * 100  # Coeficiente de Variação\n",
    "\n",
    "# Exibir os resultados\n",
    "print(f\"Variância: {variancia}\")\n",
    "print(f\"Desvio Padrão: {desvio_padrao}\")\n",
    "print(f\"Amplitude: {amplitude}\")\n",
    "print(f\"Intervalo Interquartílico (IQR): {IQR}\")\n",
    "print(f\"Coeficiente de Dispersão Quartílica: {coef_disp_quartilico}\")\n",
    "print(f\"Coeficiente de Variação: {coef_variacao:.2f}%\")\n"
   ]
  },
  {
   "cell_type": "code",
   "execution_count": 65,
   "id": "39283276-9371-4d9a-bf38-fb4e0a3bc3e1",
   "metadata": {},
   "outputs": [],
   "source": [
    "#A grande amplitude, variância, desvio padrão e coeficiente de variação indicam que há uma dispersão considerável nos valores de UBS.\n",
    "#Esses valores são muito altos em relação à média, o que sugere que o conjunto de dados é heterogêneo e pode haver valores extremos afetando a distribuição.\n",
    "#O que está coerente com os outros resultados a seguir."
   ]
  },
  {
   "cell_type": "code",
   "execution_count": 55,
   "id": "38604a2f-e983-4e3a-9311-4ca2fb4e71d8",
   "metadata": {},
   "outputs": [
    {
     "data": {
      "image/png": "[encoded data removed]",
      "text/plain": [
       "<Figure size 1000x600 with 1 Axes>"
      ]
     },
     "metadata": {},
     "output_type": "display_data"
    }
   ],
   "source": [
    "# Histograma - Quantidade de UBS por Município\n",
    "plt.figure(figsize=(10, 6))\n",
    "df_agrupado['qtd'].hist(bins=30, color='skyblue', edgecolor='black')\n",
    "plt.title(\"Histograma da variável 'qtd'\")\n",
    "plt.xlabel(\"Quantidade (qtd)\")\n",
    "plt.ylabel(\"Frequência\")\n",
    "plt.grid(True)\n",
    "plt.show()\n"
   ]
  },
  {
   "cell_type": "code",
   "execution_count": 56,
   "id": "2a7d1f4d-cd00-4b71-bbbe-ad5e83e0ce64",
   "metadata": {},
   "outputs": [],
   "source": [
    "#No histograma fica evidente a distribuição assimétrica, com uma cauda mais longa à direita"
   ]
  },
  {
   "cell_type": "code",
   "execution_count": 57,
   "id": "3274ac16-f490-4dc4-8e54-4f81501a2d5c",
   "metadata": {},
   "outputs": [
    {
     "name": "stdout",
     "output_type": "stream",
     "text": [
      "Limite inferior: -10.0\n",
      "Limite superior: 22.0\n",
      "\n",
      "Outliers abaixo do limite inferior:\n",
      "Empty DataFrame\n",
      "Columns: [IBGE, qtd, pop, mun_uf, uf, regiao]\n",
      "Index: []\n",
      "\n",
      "Outliers acima do limite superior:\n",
      "        IBGE  qtd      pop                          mun_uf  uf        regiao\n",
      "16    110020   60   460434                  Porto Velho/RO  RO         Norte\n",
      "57    120020   29    91888              Cruzeiro do Sul/AC  AC         Norte\n",
      "66    120040  106   364756                   Rio Branco/AC  AC         Norte\n",
      "109   130260  255  2063689                       Manaus/AM  AM         Norte\n",
      "119   130353   23    30668        Presidente Figueiredo/AM  AM         Norte\n",
      "...      ...  ...      ...                             ...  ..           ...\n",
      "5446  521975   23    72127  Santo Antônio do Descoberto/GO  GO  Centro-Oeste\n",
      "5457  522045   24   155635               Senador Canedo/GO  GO  Centro-Oeste\n",
      "5466  522140   32   142431                     Trindade/GO  GO  Centro-Oeste\n",
      "5474  522185   39   198861          Valparaíso de Goiás/GO  GO  Centro-Oeste\n",
      "5480  530010  207  2817381                     Brasília/DF  DF  Centro-Oeste\n",
      "\n",
      "[360 rows x 6 columns]\n"
     ]
    },
    {
     "data": {
      "image/png": "[encoded data removed]",
      "text/plain": [
       "<Figure size 800x600 with 1 Axes>"
      ]
     },
     "metadata": {},
     "output_type": "display_data"
    }
   ],
   "source": [
    "# Wuartis e o IQR\n",
    "Q1 = df_agrupado['qtd'].quantile(0.25)\n",
    "Q3 = df_agrupado['qtd'].quantile(0.75)\n",
    "IQR = Q3 - Q1\n",
    "\n",
    "# Limites inferior e superior\n",
    "limite_inferior = Q1 - 1.5 * IQR\n",
    "limite_superior = Q3 + 1.5 * IQR\n",
    "\n",
    "# Valores fora dos limites (outliers) ou extremos\n",
    "outliers_abaixo = df_agrupado[df_agrupado['qtd'] < limite_inferior]\n",
    "outliers_acima = df_agrupado[df_agrupado['qtd'] > limite_superior]\n",
    "\n",
    "# Resultados dos limites e dos outliers\n",
    "print(f\"Limite inferior: {limite_inferior}\")\n",
    "print(f\"Limite superior: {limite_superior}\")\n",
    "print(f\"\\nOutliers abaixo do limite inferior:\\n{outliers_abaixo}\")\n",
    "print(f\"\\nOutliers acima do limite superior:\\n{outliers_acima}\")\n",
    "\n",
    "# Boxplot\n",
    "plt.figure(figsize=(8, 6))\n",
    "plt.boxplot(df_agrupado['qtd'], vert=False, patch_artist=True, \n",
    "            boxprops=dict(facecolor='skyblue', color='black'),\n",
    "            whiskerprops=dict(color='black', linewidth=1.5),\n",
    "            capprops=dict(color='black', linewidth=1.5))\n",
    "\n",
    "# Linhas para o limite inferior e superior\n",
    "plt.axvline(limite_inferior, color='red', linestyle='--', label='Limite Inferior')\n",
    "plt.axvline(limite_superior, color='green', linestyle='--', label='Limite Superior')\n",
    "\n",
    "# Título e rótulos\n",
    "plt.title(\"Boxplot da variável 'qtd'\")\n",
    "plt.xlabel(\"Quantidade (qtd)\")\n",
    "plt.grid(True)\n",
    "\n",
    "# legenda\n",
    "plt.legend()\n",
    "\n",
    "# Mostrar o gráfico\n",
    "plt.show()\n"
   ]
  },
  {
   "cell_type": "code",
   "execution_count": 58,
   "id": "c1bcd4a8-2f5b-4886-afa3-6a9d63b717fc",
   "metadata": {},
   "outputs": [],
   "source": [
    "#Apesar de ter identificado os casos extremos, eles não serão retirados da base."
   ]
  },
  {
   "cell_type": "code",
   "execution_count": 59,
   "id": "2faf1e70-f3e0-4497-8384-2469128c0977",
   "metadata": {},
   "outputs": [
    {
     "name": "stdout",
     "output_type": "stream",
     "text": [
      "          Faixa  Frequência\n",
      "0         0 a 1         742\n",
      "1         2 a 3        1346\n",
      "2         4 a 5         871\n",
      "3         6 a 7         640\n",
      "4         8 a 9         501\n",
      "5       10 a 11         313\n",
      "6       12 a 13         230\n",
      "7       14 a 15         172\n",
      "8       16 a 17         110\n",
      "9       18 a 19          89\n",
      "10      20 a 22         108\n",
      "11      23 a 25          74\n",
      "12      26 a 28          48\n",
      "13      29 a 31          53\n",
      "14  Acima de 32         185\n",
      "15        Total        5482\n"
     ]
    }
   ],
   "source": [
    "# Intervalos de quantidade com as novas faixas\n",
    "bins = [0, 1, 3, 5, 7, 9, 11, 13, 15, 17, 19, 22, 25, 28, 31, float('inf')]  # Novas faixas\n",
    "labels = ['0 a 1', '2 a 3', '4 a 5', '6 a 7', '8 a 9', '10 a 11', '12 a 13', '14 a 15', '16 a 17', \n",
    "          '18 a 19', '20 a 22', '23 a 25', '26 a 28', '29 a 31', 'Acima de 32']  # Novos rótulos\n",
    "\n",
    "# Coluna de faixas de quantidade\n",
    "df_agrupado['faixa_qtd'] = pd.cut(df_agrupado['qtd'], bins=bins, labels=labels, right=True)\n",
    "\n",
    "# Frequência de cada faixa\n",
    "frequencia = df_agrupado['faixa_qtd'].value_counts().sort_index()\n",
    "\n",
    "# Tabela de frequência\n",
    "tabela_frequencia = frequencia.reset_index()\n",
    "tabela_frequencia.columns = ['Faixa', 'Frequência']\n",
    "\n",
    "# Linha de total\n",
    "total_frequencia = frequencia.sum()\n",
    "\n",
    "linha_total = pd.DataFrame({'Faixa': ['Total'], 'Frequência': [total_frequencia]})\n",
    "\n",
    "# Concatenar a linha de total ao final da tabela\n",
    "tabela_frequencia = pd.concat([tabela_frequencia, linha_total], ignore_index=True)\n",
    "\n",
    "# Exibir a tabela formatada\n",
    "print(tabela_frequencia)"
   ]
  },
  {
   "cell_type": "code",
   "execution_count": 63,
   "id": "b4463fb1-c731-46b2-9190-4cc96d7a8bd2",
   "metadata": {},
   "outputs": [
    {
     "data": {
      "image/png": "[encoded data removed]",
      "text/plain": [
       "<Figure size 1000x600 with 1 Axes>"
      ]
     },
     "metadata": {},
     "output_type": "display_data"
    }
   ],
   "source": [
    "qtd = df_agrupado[\"qtd\"]\n",
    "\n",
    "# Moda, média e mediana\n",
    "moda = qtd.mode()[0]  # Moda\n",
    "media = qtd.mean()    # Média\n",
    "mediana = qtd.median()  # Mediana\n",
    "\n",
    "# Histograma\n",
    "plt.figure(figsize=(10, 6))\n",
    "sns.histplot(qtd, kde=False, bins=20, color='skyblue', edgecolor='black')\n",
    "\n",
    "# Linhas verticais para Moda, Média e Mediana\n",
    "plt.axvline(moda, color='blue', linestyle='dashed', linewidth=2, label=f'Moda: {moda}')\n",
    "plt.axvline(media, color='green', linestyle='dashed', linewidth=2, label=f'Média: {media:.2f}')\n",
    "plt.axvline(mediana, color='gray', linestyle='dashed', linewidth=2, label=f'Mediana: {mediana}')\n",
    "\n",
    "# Títulos e rótulos\n",
    "plt.title('Histograma de qtd com Moda, Média e Mediana', fontsize=14)\n",
    "plt.xlabel('Qtd', fontsize=12)\n",
    "plt.ylabel('Frequência', fontsize=12)\n",
    "\n",
    "# Legenda\n",
    "plt.legend()\n",
    "\n",
    "# Exibindo o gráfico\n",
    "plt.grid(True)\n",
    "plt.show()\n"
   ]
  },
  {
   "cell_type": "code",
   "execution_count": 60,
   "id": "d0630cc5-9fa2-4ef2-a35c-5ad55c4a5e24",
   "metadata": {},
   "outputs": [],
   "source": [
    "#No histograma, boxspot e tabela de frequência, é possível perceber claramente a distribuição assimétrica.\n",
    "#Como já falando antes, por se tratar de dados reais de UBS no Brasil, não vamos tratar como outlier os valores discrepantes, pois posteriormente vou fazer uma correlação com a quantidade de pessoas por município.\n",
    "#O Brasil é um país com muitos municípios e com uma grande extensão."
   ]
  },
  {
   "cell_type": "code",
   "execution_count": 66,
   "id": "1c55d07d-e615-414d-9a18-ccf05a3bc247",
   "metadata": {},
   "outputs": [
    {
     "data": {
      "image/png": "[encoded data removed]",
      "text/plain": [
       "<Figure size 1000x600 with 1 Axes>"
      ]
     },
     "metadata": {},
     "output_type": "display_data"
    }
   ],
   "source": [
    "# Q1 (1º quartil), Q3 (3º quartil), média e desvio padrão\n",
    "Q1 = df_agrupado['qtd'].quantile(0.25)\n",
    "Q3 = df_agrupado['qtd'].quantile(0.75)\n",
    "media = df_agrupado['qtd'].mean()\n",
    "desvio_padrao = df_agrupado['qtd'].std()\n",
    "\n",
    "# Intervalo interquartílico (IQR)\n",
    "IQR = Q3 - Q1\n",
    "\n",
    "# Limites para outliers\n",
    "limite_inferior = Q1 - 1.5 * IQR\n",
    "limite_superior = Q3 + 1.5 * IQR\n",
    "\n",
    "# Outliers\n",
    "outliers = df_agrupado[(df_agrupado['qtd'] < limite_inferior) | (df_agrupado['qtd'] > limite_superior)]\n",
    "\n",
    "# Gráfico de dispersão KDE\n",
    "plt.figure(figsize=(10, 6))\n",
    "sns.kdeplot(df_agrupado['qtd'], fill=True, color=\"skyblue\", label=\"Densidade de KDE\")\n",
    "\n",
    "# Sinalizar o IQR (Q1 e Q3) com linhas verticais cinzas\n",
    "plt.axvline(Q1, color=\"gray\", linestyle=\"--\", label=f\"Q1: {Q1:.2f}\")\n",
    "plt.axvline(Q3, color=\"gray\", linestyle=\"--\", label=f\"Q3: {Q3:.2f}\")\n",
    "\n",
    "# Sinalizar a média e o desvio padrão com linhas verticais azuis\n",
    "plt.axvline(media, color=\"blue\", linestyle=\"-\", label=f\"Média: {media:.2f}\")\n",
    "plt.axvline(media - desvio_padrao, color=\"blue\", linestyle=\"--\", label=f\"Média - 1 DP: {media - desvio_padrao:.2f}\")\n",
    "plt.axvline(media + desvio_padrao, color=\"blue\", linestyle=\"--\", label=f\"Média + 1 DP: {media + desvio_padrao:.2f}\")\n",
    "\n",
    "# Marcar os outliers com pontos vermelhos\n",
    "plt.scatter(outliers['qtd'], np.zeros_like(outliers['qtd']), color='red', label='Outliers', zorder=5)\n",
    "\n",
    "# Personalização do gráfico\n",
    "plt.title(\"Distribuição de Kernel da variável 'qtd' com Outliers, Média e Intervalo Interquartílico\")\n",
    "plt.xlabel(\"Quantidade (qtd)\")\n",
    "plt.ylabel(\"Densidade de Probabilidade\")\n",
    "plt.legend()\n",
    "plt.grid(True)\n",
    "plt.show()\n"
   ]
  },
  {
   "cell_type": "code",
   "execution_count": 67,
   "id": "b304863b-406a-4832-862b-9b27ca3d1207",
   "metadata": {},
   "outputs": [],
   "source": [
    "#Nesse gráfico, também é possível perceber\n",
    "#A densidade de probabilidade está altamente concentrada próxima a valores baixos (perto de 0).\n",
    "#Há uma cauda longa à direita, indicando uma distribuição assimétrica positiva (com alguns valores muito altos).\n",
    "#A presença de outliers (pontos vermelhos) sugere que alguns valores são excepcionalmente grandes em relação ao restante dos dados.\n",
    "#A quantidade de UBS por município apresenta uma distribuição assimétrica à direita, com muitos valores pequenos e poucos valores muito grandes.\n",
    "#A média pode não ser um bom indicador central devido à influência dos valores extremos."
   ]
  },
  {
   "cell_type": "code",
   "execution_count": 68,
   "id": "cb4a03f4-b8cc-48c2-824b-e81286a9f2ea",
   "metadata": {},
   "outputs": [
    {
     "name": "stdout",
     "output_type": "stream",
     "text": [
      "Assimetria (skewness) da variável 'qtd': 16.26\n",
      "Curtose (kurtosis) da variável 'qtd': 493.20\n"
     ]
    }
   ],
   "source": [
    "# Assimetria (skewness) e a curtose (kurtosis)\n",
    "assimetria = df_agrupado['qtd'].skew()\n",
    "curtose = df_agrupado['qtd'].kurt()\n",
    "\n",
    "# Exibir os resultados\n",
    "print(f\"Assimetria (skewness) da variável 'qtd': {assimetria:.2f}\")\n",
    "print(f\"Curtose (kurtosis) da variável 'qtd': {curtose:.2f}\")\n"
   ]
  },
  {
   "cell_type": "code",
   "execution_count": 69,
   "id": "0ac4e26c-5929-4bf7-a0a5-ca8472c873ee",
   "metadata": {},
   "outputs": [],
   "source": [
    "#A assimetria é positiva e muito alta. \n",
    "#Isso significa que a distribuição é altamente assimétrica à direita, ou seja, a cauda da distribuição está muito mais alongada à direita. \n",
    "#Esse valor muito alto sugere que a maioria dos dados está concentrada em valores baixos, mas há alguns valores extremamente grandes que puxam a cauda da distribuição para a direita.\n",
    "\n",
    "#A curtose é extremamente alta e positiva. \n",
    "#Isso indica que a distribuição tem caudas extremamente pesadas (muitas observações distantes da média). \n",
    "#A distribuição tem picos muito altos e caudas longas, o que sugere a presença de valores extremos."
   ]
  },
  {
   "cell_type": "code",
   "execution_count": 33,
   "id": "0cc49216-b4b4-4fc8-8670-14b239ebb9d8",
   "metadata": {},
   "outputs": [
    {
     "data": {
      "image/png": "[encoded data removed]",
      "text/plain": [
       "<Figure size 800x600 with 1 Axes>"
      ]
     },
     "metadata": {},
     "output_type": "display_data"
    }
   ],
   "source": [
    "# Q-Q plot para verificar distribuição Gamma\n",
    "plt.figure(figsize=(8, 6))\n",
    "stats.probplot(df_agrupado['qtd'], dist=\"gamma\", sparams=(2,), plot=plt)\n",
    "plt.title(\"Q-Q Plot para Distribuição Gamma\")\n",
    "plt.show()"
   ]
  },
  {
   "cell_type": "code",
   "execution_count": 70,
   "id": "6e001433-bca2-4f07-ba3c-986b93d609e4",
   "metadata": {},
   "outputs": [],
   "source": [
    "#A distribuição Gamma pode ser um bom ajuste para os dados na parte central da distribuição.\n",
    "#No entanto, a presença de muitos valores extremos sugere que pode haver outliers ou uma assimetria mais acentuada do que o esperado."
   ]
  },
  {
   "cell_type": "code",
   "execution_count": 73,
   "id": "da22784e-f016-4b40-b67d-61270fd6a741",
   "metadata": {},
   "outputs": [
    {
     "name": "stdout",
     "output_type": "stream",
     "text": [
      "Parâmetros ajustados para a distribuição Log-Normal: (np.float64(12.9049105338056), np.float64(0.9999999999999998), np.float64(0.029650335499450627))\n"
     ]
    },
    {
     "data": {
      "image/png": "[encoded data removed]",
      "text/plain": [
       "<Figure size 1000x600 with 1 Axes>"
      ]
     },
     "metadata": {},
     "output_type": "display_data"
    }
   ],
   "source": [
    "# Ajuste para a Distribuição Log-Normal\n",
    "params_lognormal = stats.lognorm.fit(df_agrupado['qtd'])\n",
    "print(f\"Parâmetros ajustados para a distribuição Log-Normal: {params_lognormal}\")\n",
    "\n",
    "# Distribuição Log-Normal\n",
    "shape, loc, scale = 12.90, 0.00, 0.03  # Usando os valores ajustados para a distribuição\n",
    "\n",
    "# Gerar a distribuição Log-Normal ajustada\n",
    "x = np.linspace(min(df_agrupado['qtd']), max(df_agrupado['qtd']), 1000)\n",
    "lognorm_dist = lognorm.pdf(x, shape, loc=loc, scale=scale)\n",
    "\n",
    "# Plotando o histograma e a densidade de Kernel dos dados\n",
    "plt.figure(figsize=(10, 6))\n",
    "sns.histplot(df_agrupado['qtd'], kde=True, color=\"skyblue\", stat=\"density\", bins=30, label=\"Histograma e KDE\", alpha=0.6)\n",
    "\n",
    "# Plotando a distribuição Log-Normal ajustada\n",
    "plt.plot(x, lognorm_dist, color=\"red\", label=\"Distribuição Log-Normal Ajustada\", linewidth=2)\n",
    "\n",
    "# Customizações do gráfico\n",
    "plt.title(\"Histograma e Curva de Densidade com Ajuste da Distribuição Log-Normal\")\n",
    "plt.xlabel(\"Quantidade (qtd)\")\n",
    "plt.ylabel(\"Densidade\")\n",
    "plt.legend()\n",
    "plt.grid(True)\n",
    "plt.show()\n"
   ]
  },
  {
   "cell_type": "code",
   "execution_count": 74,
   "id": "1c68cfdc-4a87-4192-a21c-61f5c5cbfed3",
   "metadata": {},
   "outputs": [],
   "source": [
    "#A linha vermelha representa a distribuição Log-Normal ajustada aos dados.\n",
    "#O ajuste parece capturar bem a forma da distribuição dos dados, confirmando que a variável segue um padrão log-normal.\n",
    "\n",
    "#O comportamento do histograma reforça que os dados têm uma cauda longa com alguns valores extremos.\n",
    "#Isso indica que medidas como a média podem ser influenciadas por esses valores altos, tornando a mediana uma estatística mais robusta para análise central.\n",
    "\n",
    "#Pode-se dizer que a quantidade de UBS por município segue uma distribuição fortemente assimétrica e positiva, com uma boa aderência à distribuição Log-Normal."
   ]
  },
  {
   "cell_type": "code",
   "execution_count": 77,
   "id": "edc405ca-a2ca-455a-bffe-72ff46a86f48",
   "metadata": {},
   "outputs": [
    {
     "data": {
      "image/png": "[encoded data removed]",
      "text/plain": [
       "<Figure size 1000x600 with 1 Axes>"
      ]
     },
     "metadata": {},
     "output_type": "display_data"
    }
   ],
   "source": [
    "# Gráfico de dispersão (scatter plot) entre as variáveis 'qtd' e 'pop'\n",
    "plt.figure(figsize=(10, 6))\n",
    "\n",
    "sns.scatterplot(data=df_agrupado, x='qtd', y='pop', color='blue', marker='o')\n",
    "\n",
    "# Adicionar título e rótulos\n",
    "plt.title(\"Gráfico de Dispersão entre Quantidade de UBS por Município e a População\", fontsize=16)\n",
    "plt.xlabel(\"Quantidade de UBS\", fontsize=14)\n",
    "plt.ylabel(\"População\", fontsize=14)\n",
    "\n",
    "# Exibir o gráfico\n",
    "plt.grid(True)\n",
    "plt.show()"
   ]
  },
  {
   "cell_type": "code",
   "execution_count": 78,
   "id": "d33dd1f7-6b75-4244-8a1f-99319b754a75",
   "metadata": {},
   "outputs": [],
   "source": [
    "#O gráfico de dispersão indica que é possível ter uma correlação entre a quantidade de ubs por município e a população do município."
   ]
  },
  {
   "cell_type": "code",
   "execution_count": 79,
   "id": "b4e4d1fb-c151-4b1a-94ca-f4d1c09e0bf3",
   "metadata": {},
   "outputs": [
    {
     "name": "stdout",
     "output_type": "stream",
     "text": [
      "Correlação de Pearson: 0.8724\n",
      "Valor p da correlação de Pearson: 0.0000\n",
      "Correlação de Spearman: 0.8734\n",
      "Valor p da correlação de Spearman: 0.0000\n",
      "Coeficiente de Determinação (R²): 0.7610\n",
      "A correlação de Pearson é significativa.\n",
      "A correlação de Spearman é significativa.\n"
     ]
    }
   ],
   "source": [
    "# Correlação de Pearson\n",
    "correlacao_pearson, p_pearson = stats.pearsonr(df_agrupado['qtd'], df_agrupado['pop'])\n",
    "\n",
    "# Correlação de Spearman\n",
    "correlacao_spearman, p_spearman = stats.spearmanr(df_agrupado['qtd'], df_agrupado['pop'])\n",
    "\n",
    "# Coeficiente de Determinação (R²)\n",
    "r_quadrado = correlacao_pearson**2\n",
    "\n",
    "# Exibir os resultados\n",
    "print(f\"Correlação de Pearson: {correlacao_pearson:.4f}\")\n",
    "print(f\"Valor p da correlação de Pearson: {p_pearson:.4f}\")\n",
    "print(f\"Correlação de Spearman: {correlacao_spearman:.4f}\")\n",
    "print(f\"Valor p da correlação de Spearman: {p_spearman:.4f}\")\n",
    "print(f\"Coeficiente de Determinação (R²): {r_quadrado:.4f}\")\n",
    "\n",
    "# Interpretando os resultados\n",
    "if p_pearson < 0.05:\n",
    "    print(\"A correlação de Pearson é significativa.\")\n",
    "else:\n",
    "    print(\"A correlação de Pearson não é significativa.\")\n",
    "    \n",
    "if p_spearman < 0.05:\n",
    "    print(\"A correlação de Spearman é significativa.\")\n",
    "else:\n",
    "    print(\"A correlação de Spearman não é significativa.\")\n"
   ]
  },
  {
   "cell_type": "code",
   "execution_count": 80,
   "id": "6bfe7c90-2fef-47df-a958-d8f504fd3fe7",
   "metadata": {},
   "outputs": [],
   "source": [
    "#A correlação de Pearson de 0.8541 indica uma forte correlação positiva, ou seja, à medida que a população aumenta, a quantidade de UBS também tende a aumentar.\n",
    "\n",
    "#A correlação de Spearman de 0.8626 também sugere uma forte associação entre as variáveis, mas, ao contrário de Pearson, ela mede a relação monotônica (não necessariamente linear). \n",
    "#Este valor sugere que, independentemente de ser uma relação linear ou não, as variáveis estão fortemente associadas.\n",
    "\n",
    "#Há uma forte correlação positiva entre as variáveis, tanto em uma relação linear (correlação de Pearson) quanto monotônica (correlação de Spearman).\n",
    "#Ambas as correlações são estatisticamente significativas, pois os valores p são menores que 0.05.\n",
    "\n",
    "#O coeficiente de determinação de 0.7294 significa que 72.94% da variação na quantidade de UBS pode ser explicada pela variação da população. \n",
    "#Esse valor é bastante alto, indicando que a população tem um impacto considerável na quantidade de UBS."
   ]
  },
  {
   "cell_type": "code",
   "execution_count": 82,
   "id": "b66ee2ca-b04d-4518-b771-577fc1fababd",
   "metadata": {},
   "outputs": [
    {
     "name": "stdout",
     "output_type": "stream",
     "text": [
      "Coeficiente de Correlação de Kendall (Tau de Kendall): 0.7254698373049459\n",
      "Valor p: 0.0\n"
     ]
    }
   ],
   "source": [
    "# Coeficiente de Correlação de Kendall (Tau de Kendall)\n",
    "tau, p_value = kendalltau(df_agrupado['qtd'], df_agrupado['pop'])\n",
    "\n",
    "# Exibir o resultado\n",
    "print(f\"Coeficiente de Correlação de Kendall (Tau de Kendall): {tau}\")\n",
    "print(f\"Valor p: {p_value}\")\n"
   ]
  },
  {
   "cell_type": "code",
   "execution_count": 83,
   "id": "d6b390d3-3dab-40b9-9108-77094ec69d94",
   "metadata": {},
   "outputs": [],
   "source": [
    "#Existe uma correlação significativa e positiva entre as variáveis, com uma força moderada a forte, conforme indicado pelo Coeficiente de Kendall (Tau de Kendall).\n",
    "\n",
    "#A correlação é estatisticamente relevante, dado que o valor p é muito baixo (próximo de zero)."
   ]
  },
  {
   "cell_type": "code",
   "execution_count": 85,
   "id": "bdce21e9-38b9-4309-9d7a-91abd37fe795",
   "metadata": {},
   "outputs": [
    {
     "name": "stdout",
     "output_type": "stream",
     "text": [
      "Covariância entre as variáveis: 2878308.1179190823\n"
     ]
    }
   ],
   "source": [
    "# Covariância\n",
    "covariancia = df_agrupado['qtd'].cov(df_agrupado['pop'])\n",
    "\n",
    "# Exibir o valor da covariância\n",
    "print(f\"Covariância entre as variáveis: {covariancia}\")"
   ]
  },
  {
   "cell_type": "code",
   "execution_count": 87,
   "id": "df1cc6aa-1340-442f-962e-210061fa4098",
   "metadata": {},
   "outputs": [],
   "source": [
    "#Isso indica uma relação positiva entre as duas variáveis, o que significa que, de maneira geral, quando a qtd de UBS aumenta, a variável popolução também tende a aumentar, e vice-versa."
   ]
  },
  {
   "cell_type": "code",
   "execution_count": 90,
   "id": "8b71c654-4e47-445b-95fb-c9353c99e97f",
   "metadata": {},
   "outputs": [],
   "source": [
    "#Tendo os resultados estatísticos acima, é possível inferir que em municípios maiores há uma maior quantidade de UBS, como pode ser percebido nos municípios de São Paulo e Rio de Janeiro. Esses, entre outros, são os valores extremos apontados nos resultados acima.\n",
    "#A cauda longa a direita mostra que há muitos municípios com baixa população e poucas UBSs.\n",
    "\n",
    "#Esse estudo vai poder apoiar etapas posteriores do estudo que irá elaborar um modelo que priorize ou identique os locais mais necessitados de uma implantação de uma nova UBS. "
   ]
  }
 ],
 "metadata": {
  "kernelspec": {
   "display_name": "Python 3 (ipykernel)",
   "language": "python",
   "name": "python3"
  },
  "language_info": {
   "codemirror_mode": {
    "name": "ipython",
    "version": 3
   },
   "file_extension": ".py",
   "mimetype": "text/x-python",
   "name": "python",
   "nbconvert_exporter": "python",
   "pygments_lexer": "ipython3",
   "version": "3.13.2"
  }
 },
 "nbformat": 4,
 "nbformat_minor": 5
}
